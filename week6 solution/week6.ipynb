{
 "cells": [
  {
   "cell_type": "markdown",
   "id": "8ecaf80f",
   "metadata": {},
   "source": [
    "# READING PYTHON TXT FILE."
   ]
  },
  {
   "cell_type": "code",
   "execution_count": 4,
   "id": "2387d021",
   "metadata": {},
   "outputs": [
    {
     "name": "stdout",
     "output_type": "stream",
     "text": [
      "Python is a popular general-purpose programming language.\n",
      "It was created by Guido van Rossum, and released in 1991.\n",
      "It is used in machine learning, web development, desktop applications, and many other fields. \n",
      "Fortunately for beginners, Python has a simple, easy-to-use syntax. \n",
      "This makes Python a great language to learn for beginners.\n",
      "Why Learn Python?\n",
      "Python is easy to learn. Its syntax is easy and code is very readable.\n",
      "Python has a lot of applications. It's used for developing web applications, data science, rapid application development, and so on.\n",
      "Python allows you to write programs in fewer lines of code than most of the programming languages.\n",
      "The popularity of Python is growing rapidly. Now it's one of the most popular programming languages.\n",
      "\n"
     ]
    }
   ],
   "source": [
    "with open(\"E:\\\\22bca245\\\\python\\\\week6.txt\",'r')as a:\n",
    "    f=a.read()\n",
    "    print(f)"
   ]
  },
  {
   "cell_type": "markdown",
   "id": "74a4b61e",
   "metadata": {},
   "source": [
    "# Print it in Reverse."
   ]
  },
  {
   "cell_type": "code",
   "execution_count": 7,
   "id": "36ac3539",
   "metadata": {},
   "outputs": [],
   "source": [
    "f=open(\"E:\\\\22bca245\\\\python\\\\reverse.txt\",'w',newline=\"\")\n",
    "with open(\"E:\\\\22bca245\\\\python\\\\week6.txt\",'r')as a:\n",
    "    k=a.read()\n",
    "rev= k[::-1]\n",
    "f.write(rev)\n",
    "f.close()"
   ]
  },
  {
   "cell_type": "code",
   "execution_count": 9,
   "id": "a40d707a",
   "metadata": {},
   "outputs": [
    {
     "name": "stdout",
     "output_type": "stream",
     "text": [
      "\n",
      ".segaugnal gnimmargorp ralupop tsom eht fo eno s'ti woN .yldipar gniworg si nohtyP fo ytiralupop ehT\n",
      ".segaugnal gnimmargorp eht fo tsom naht edoc fo senil rewef ni smargorp etirw ot uoy swolla nohtyP\n",
      ".no os dna ,tnempoleved noitacilppa dipar ,ecneics atad ,snoitacilppa bew gnipoleved rof desu s'tI .snoitacilppa fo tol a sah nohtyP\n",
      ".elbadaer yrev si edoc dna ysae si xatnys stI .nrael ot ysae si nohtyP\n",
      "?nohtyP nraeL yhW\n",
      ".srennigeb rof nrael ot egaugnal taerg a nohtyP sekam sihT\n",
      " .xatnys esu-ot-ysae ,elpmis a sah nohtyP ,srennigeb rof yletanutroF\n",
      " .sdleif rehto ynam dna ,snoitacilppa potksed ,tnempoleved bew ,gninrael enihcam ni desu si tI\n",
      ".1991 ni desaeler dna ,mussoR nav odiuG yb detaerc saw tI\n",
      ".egaugnal gnimmargorp esoprup-lareneg ralupop a si nohtyP\n"
     ]
    }
   ],
   "source": [
    "with open(\"E:\\\\22bca245\\\\python\\\\reverse.txt\",'r')as s:\n",
    "    read_text=s.read()\n",
    "    print(read_text)"
   ]
  },
  {
   "cell_type": "markdown",
   "id": "d664c0a6",
   "metadata": {},
   "source": [
    "# <span style=\"color:green\">Program 2: Read Python.txt file and Print total number of lines and words in it.\n"
   ]
  },
  {
   "cell_type": "code",
   "execution_count": 10,
   "id": "49aba979",
   "metadata": {},
   "outputs": [
    {
     "name": "stdout",
     "output_type": "stream",
     "text": [
      "Python is a popular general-purpose programming language.\n",
      "It was created by Guido van Rossum, and released in 1991.\n",
      "It is used in machine learning, web development, desktop applications, and many other fields. \n",
      "Fortunately for beginners, Python has a simple, easy-to-use syntax. \n",
      "This makes Python a great language to learn for beginners.\n",
      "Why Learn Python?\n",
      "Python is easy to learn. Its syntax is easy and code is very readable.\n",
      "Python has a lot of applications. It's used for developing web applications, data science, rapid application development, and so on.\n",
      "Python allows you to write programs in fewer lines of code than most of the programming languages.\n",
      "The popularity of Python is growing rapidly. Now it's one of the most popular programming languages.\n",
      "\n"
     ]
    }
   ],
   "source": [
    "with open(\"E:\\\\22bca245\\\\python\\\\week6.txt\",'r')as a:\n",
    "    f=a.read()\n",
    "    print(f)"
   ]
  },
  {
   "cell_type": "code",
   "execution_count": 11,
   "id": "08fc3425",
   "metadata": {},
   "outputs": [
    {
     "name": "stdout",
     "output_type": "stream",
     "text": [
      "Total number of lines : 10\n"
     ]
    }
   ],
   "source": [
    "with open(\"E:\\\\22bca245\\\\python\\\\week6.txt\",'r')as a:\n",
    "    l=len(a.readlines())\n",
    "    print(\"Total number of lines :\",l)"
   ]
  },
  {
   "cell_type": "code",
   "execution_count": 12,
   "id": "ee2af4ad",
   "metadata": {},
   "outputs": [
    {
     "name": "stdout",
     "output_type": "stream",
     "text": [
      "After spiliting text:-\n",
      " ['.segaugnal', 'gnimmargorp', 'ralupop', 'tsom', 'eht', 'fo', 'eno', \"s'ti\", 'woN', '.yldipar', 'gniworg', 'si', 'nohtyP', 'fo', 'ytiralupop', 'ehT', '.segaugnal', 'gnimmargorp', 'eht', 'fo', 'tsom', 'naht', 'edoc', 'fo', 'senil', 'rewef', 'ni', 'smargorp', 'etirw', 'ot', 'uoy', 'swolla', 'nohtyP', '.no', 'os', 'dna', ',tnempoleved', 'noitacilppa', 'dipar', ',ecneics', 'atad', ',snoitacilppa', 'bew', 'gnipoleved', 'rof', 'desu', \"s'tI\", '.snoitacilppa', 'fo', 'tol', 'a', 'sah', 'nohtyP', '.elbadaer', 'yrev', 'si', 'edoc', 'dna', 'ysae', 'si', 'xatnys', 'stI', '.nrael', 'ot', 'ysae', 'si', 'nohtyP', '?nohtyP', 'nraeL', 'yhW', '.srennigeb', 'rof', 'nrael', 'ot', 'egaugnal', 'taerg', 'a', 'nohtyP', 'sekam', 'sihT', '.xatnys', 'esu-ot-ysae', ',elpmis', 'a', 'sah', 'nohtyP', ',srennigeb', 'rof', 'yletanutroF', '.sdleif', 'rehto', 'ynam', 'dna', ',snoitacilppa', 'potksed', ',tnempoleved', 'bew', ',gninrael', 'enihcam', 'ni', 'desu', 'si', 'tI', '.1991', 'ni', 'desaeler', 'dna', ',mussoR', 'nav', 'odiuG', 'yb', 'detaerc', 'saw', 'tI', '.egaugnal', 'gnimmargorp', 'esoprup-lareneg', 'ralupop', 'a', 'si', 'nohtyP'] \n",
      "\n",
      "Total words: 121\n"
     ]
    }
   ],
   "source": [
    "m=0\n",
    "with open(\"E:\\\\22bca245\\\\python\\\\reverse.txt\",'r')as a:\n",
    "    f=a.read()\n",
    "    l=f.split()\n",
    "    print(\"After spiliting text:-\\n\",l,\"\\n\")\n",
    "    m +=len(l)\n",
    "    print(\"Total words:\",m)"
   ]
  },
  {
   "cell_type": "markdown",
   "id": "78932ad1",
   "metadata": {},
   "source": [
    "# <span style=\"color:red\"> Program 3: Read Python.txt file and Print unique word with its count.\n"
   ]
  },
  {
   "cell_type": "code",
   "execution_count": 14,
   "id": "3501c417",
   "metadata": {},
   "outputs": [
    {
     "name": "stdout",
     "output_type": "stream",
     "text": [
      "nraeL\n",
      "s'tI\n",
      "taerg\n",
      ",tnempoleved\n",
      "ni\n",
      "potksed\n",
      "a\n",
      ".elbadaer\n",
      "atad\n",
      "desu\n",
      "uoy\n",
      "fo\n",
      "smargorp\n",
      "stI\n",
      ".snoitacilppa\n",
      ".nrael\n",
      ",srennigeb\n",
      ",snoitacilppa\n",
      ".srennigeb\n",
      "dna\n",
      "ytiralupop\n",
      "rewef\n",
      "tsom\n",
      "ot\n",
      "gniworg\n",
      ".sdleif\n",
      "ysae\n",
      "sihT\n",
      "gnipoleved\n",
      "esu-ot-ysae\n",
      "?nohtyP\n",
      ",elpmis\n",
      "etirw\n",
      "tI\n",
      "ynam\n",
      "detaerc\n",
      ".1991\n",
      "tol\n",
      "ralupop\n",
      "sah\n",
      "gnimmargorp\n",
      "rof\n",
      ".xatnys\n",
      "nrael\n",
      "yb\n",
      "saw\n",
      "odiuG\n",
      ".egaugnal\n",
      "desaeler\n",
      "swolla\n",
      "yrev\n",
      "eno\n",
      "esoprup-lareneg\n",
      ".yldipar\n",
      "yletanutroF\n",
      "nav\n",
      "nohtyP\n",
      "bew\n",
      ",mussoR\n",
      "egaugnal\n",
      "eht\n",
      "si\n",
      "enihcam\n",
      ",ecneics\n",
      "rehto\n",
      ".no\n",
      "s'ti\n",
      "yhW\n",
      "woN\n",
      "naht\n",
      "edoc\n",
      "xatnys\n",
      "noitacilppa\n",
      "dipar\n",
      "senil\n",
      ".segaugnal\n",
      "ehT\n",
      ",gninrael\n",
      "sekam\n",
      "os\n",
      "\n",
      "Total No Of Unique Word :: 80\n"
     ]
    }
   ],
   "source": [
    "with open('E:\\\\22bca245\\\\python\\\\reverse.txt','r') as file:\n",
    "    data= file.read()\n",
    "    split_word = data.split()\n",
    "    for i in set(split_word):\n",
    "        print(i)\n",
    "    print(\"\\nTotal No Of Unique Word :: {}\".format(len(set(split_word))))"
   ]
  },
  {
   "cell_type": "markdown",
   "id": "e400d933-718f-43ec-8922-005513d8e8f7",
   "metadata": {},
   "source": [
    "# 5.Read Python.txt file. Convert it into upper case and write into another file \"Python_Upper.txt\""
   ]
  },
  {
   "cell_type": "code",
   "execution_count": 17,
   "id": "6c5f6636-82f4-4d94-ab17-600dca9ef2f0",
   "metadata": {},
   "outputs": [
    {
     "name": "stdout",
     "output_type": "stream",
     "text": [
      "Python.txt file in UPPER CASE:-\n",
      "\n",
      "\n",
      ".SEGAUGNAL GNIMMARGORP RALUPOP TSOM EHT FO ENO S'TI WON .YLDIPAR GNIWORG SI NOHTYP FO YTIRALUPOP EHT\n",
      ".SEGAUGNAL GNIMMARGORP EHT FO TSOM NAHT EDOC FO SENIL REWEF NI SMARGORP ETIRW OT UOY SWOLLA NOHTYP\n",
      ".NO OS DNA ,TNEMPOLEVED NOITACILPPA DIPAR ,ECNEICS ATAD ,SNOITACILPPA BEW GNIPOLEVED ROF DESU S'TI .SNOITACILPPA FO TOL A SAH NOHTYP\n",
      ".ELBADAER YREV SI EDOC DNA YSAE SI XATNYS STI .NRAEL OT YSAE SI NOHTYP\n",
      "?NOHTYP NRAEL YHW\n",
      ".SRENNIGEB ROF NRAEL OT EGAUGNAL TAERG A NOHTYP SEKAM SIHT\n",
      " .XATNYS ESU-OT-YSAE ,ELPMIS A SAH NOHTYP ,SRENNIGEB ROF YLETANUTROF\n",
      " .SDLEIF REHTO YNAM DNA ,SNOITACILPPA POTKSED ,TNEMPOLEVED BEW ,GNINRAEL ENIHCAM NI DESU SI TI\n",
      ".1991 NI DESAELER DNA ,MUSSOR NAV ODIUG YB DETAERC SAW TI\n",
      ".EGAUGNAL GNIMMARGORP ESOPRUP-LARENEG RALUPOP A SI NOHTYP\n"
     ]
    }
   ],
   "source": [
    "f1=open('E:\\\\22bca245\\\\python\\\\python_upper.txt','w',newline='')\n",
    "with open('E:\\\\22bca245\\\\python\\\\reverse.txt','r') as file:\n",
    "    print(\"Python.txt file in UPPER CASE:-\\n\")\n",
    "    for lines in file:\n",
    "        f1.write(lines.upper())\n",
    "f1.close()\n",
    "with open('E:\\\\22bca245\\\\python\\\\python_upper.txt','r') as f:\n",
    "    read_txt=f.read()\n",
    "    print(read_txt)"
   ]
  },
  {
   "cell_type": "code",
   "execution_count": null,
   "id": "8db9b737-0628-45b4-a603-7dfc275b0504",
   "metadata": {},
   "outputs": [],
   "source": []
  }
 ],
 "metadata": {
  "kernelspec": {
   "display_name": "Python 3 (ipykernel)",
   "language": "python",
   "name": "python3"
  },
  "language_info": {
   "codemirror_mode": {
    "name": "ipython",
    "version": 3
   },
   "file_extension": ".py",
   "mimetype": "text/x-python",
   "name": "python",
   "nbconvert_exporter": "python",
   "pygments_lexer": "ipython3",
   "version": "3.10.10"
  }
 },
 "nbformat": 4,
 "nbformat_minor": 5
}
